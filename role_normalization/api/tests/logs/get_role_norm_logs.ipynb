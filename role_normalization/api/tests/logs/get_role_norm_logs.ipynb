{
 "cells": [
  {
   "cell_type": "markdown",
   "id": "b41bca52-a53d-4554-8d3a-d20c5619f6d6",
   "metadata": {
    "tags": []
   },
   "source": [
    "# Retrieve Role Normalization API logs\n",
    "\n",
    "Retrieve Role Normalization API logs from Loglake and save them to a file."
   ]
  },
  {
   "cell_type": "code",
   "execution_count": 1,
   "id": "97c4cbe4-9167-43f4-bfa1-eea3c21bd34a",
   "metadata": {
    "tags": []
   },
   "outputs": [],
   "source": [
    "import aips_gathering as aips\n",
    "import gzip\n",
    "import os\n",
    "import pandas as pd\n",
    "import pyathena"
   ]
  },
  {
   "cell_type": "code",
   "execution_count": 2,
   "id": "1768f12e-44f0-4e03-9b61-0747dfaf1448",
   "metadata": {
    "tags": []
   },
   "outputs": [],
   "source": [
    "s3_data_folder = \"s3://datascience-lab-canastra-vg/luis/\"\n",
    "\n",
    "start_date = aips.date(2023, 5, 28)\n",
    "end_date = aips.date(2023, 6, 3)\n",
    "target_dates = list(aips.date_range(start_date, end_date))\n",
    "\n",
    "logs_csv_filename = f'role_norm_logs.{str(start_date)}.{str(end_date)}.csv'\n",
    "logs_gzip_filename = f'{logs_csv_filename}.gz'"
   ]
  },
  {
   "cell_type": "markdown",
   "id": "7bddf44b-af83-48e8-bace-cb7bd0ea3d4d",
   "metadata": {
    "tags": []
   },
   "source": [
    "## Retrieve logs\n",
    "\n",
    "Retrieve logs from Loglake and save them in S3 as parquet files."
   ]
  },
  {
   "cell_type": "code",
   "execution_count": 3,
   "id": "1c239d3a-bbad-4ef0-8a88-399530236118",
   "metadata": {
    "tags": []
   },
   "outputs": [],
   "source": [
    "def get_role_norm_logs_by_date(conn, query_date):\n",
    "    return aips.query_athena_catho(\n",
    "        f\"\"\"\n",
    "        SELECT\n",
    "            date_format(MIN(timestamp) AT TIME ZONE 'America/Sao_Paulo', '%Y-%m-%d %H:%i:%s.%f') AS log_datetime,\n",
    "            request_body AS api_request,\n",
    "            response_body AS api_response\n",
    "        FROM (\n",
    "            SELECT\n",
    "                year,\n",
    "                month,\n",
    "                day,\n",
    "                request_body,\n",
    "                response_body_custom AS response_body,\n",
    "                from_iso8601_timestamp(\"@timestamp\") AS timestamp\n",
    "            FROM\n",
    "                loglake.logs\n",
    "            WHERE\n",
    "                engine = 'catho-role-normalization'\n",
    "                AND CONCAT(year, '-', month, '-', day) = '{query_date.isoformat()}'\n",
    "                AND (status = '200' OR status = '204')\n",
    "                AND request_method = 'POST'\n",
    "            )\n",
    "        GROUP BY\n",
    "            year,\n",
    "            month,\n",
    "            day,\n",
    "            request_body,\n",
    "            response_body\n",
    "        \"\"\"\n",
    "    )"
   ]
  },
  {
   "cell_type": "code",
   "execution_count": 5,
   "id": "fd0463c1-0dd7-4e2c-9817-04b864085a34",
   "metadata": {
    "tags": []
   },
   "outputs": [
    {
     "data": {
      "application/vnd.jupyter.widget-view+json": {
       "model_id": "2be7e69f157a4fe3a47ab4b27a62bacc",
       "version_major": 2,
       "version_minor": 0
      },
      "text/plain": [
       "Retrieving Role Normalization API logs:   0%|          | 0/7 [00:00<?, ?it/s]"
      ]
     },
     "metadata": {},
     "output_type": "display_data"
    },
    {
     "name": "stdout",
     "output_type": "stream",
     "text": [
      "FILE: s3://datascience-lab-canastra-vg/luis/role_norm_api_logs/2023-05-28.parquet... SAVED\n",
      "FILE: s3://datascience-lab-canastra-vg/luis/role_norm_api_logs/2023-05-29.parquet... SAVED\n",
      "FILE: s3://datascience-lab-canastra-vg/luis/role_norm_api_logs/2023-05-30.parquet... SAVED\n",
      "FILE: s3://datascience-lab-canastra-vg/luis/role_norm_api_logs/2023-05-31.parquet... SAVED\n",
      "FILE: s3://datascience-lab-canastra-vg/luis/role_norm_api_logs/2023-06-01.parquet... SAVED\n",
      "FILE: s3://datascience-lab-canastra-vg/luis/role_norm_api_logs/2023-06-02.parquet... SAVED\n",
      "FILE: s3://datascience-lab-canastra-vg/luis/role_norm_api_logs/2023-06-03.parquet... SAVED\n"
     ]
    }
   ],
   "source": [
    "aips.download_by_date(\n",
    "    None,\n",
    "    get_role_norm_logs_by_date,\n",
    "    os.path.join(s3_data_folder, \"role_norm_api_logs\"),\n",
    "    target_dates,\n",
    "    desc = \"Retrieving Role Normalization API logs\",\n",
    "    overwrite = False\n",
    ")"
   ]
  },
  {
   "cell_type": "markdown",
   "id": "32f0ca72-3f4d-4a74-a618-9b019e5b8a31",
   "metadata": {
    "tags": []
   },
   "source": [
    "## Read logs\n",
    "\n",
    "Read log parquet files and create dataframe."
   ]
  },
  {
   "cell_type": "code",
   "execution_count": 6,
   "id": "80521d60-19f8-4654-b4c5-07ac873bb257",
   "metadata": {
    "tags": []
   },
   "outputs": [
    {
     "data": {
      "application/vnd.jupyter.widget-view+json": {
       "model_id": "1831b2a96a5f466986121bcdfcd71845",
       "version_major": 2,
       "version_minor": 0
      },
      "text/plain": [
       "Reading Role Normalization API logs:   0%|          | 0/7 [00:00<?, ?it/s]"
      ]
     },
     "metadata": {},
     "output_type": "display_data"
    },
    {
     "name": "stdout",
     "output_type": "stream",
     "text": [
      "READING: s3://datascience-lab-canastra-vg/luis/role_norm_api_logs/2023-05-28.parquet\n",
      "READING: s3://datascience-lab-canastra-vg/luis/role_norm_api_logs/2023-05-29.parquet\n",
      "READING: s3://datascience-lab-canastra-vg/luis/role_norm_api_logs/2023-05-30.parquet\n",
      "READING: s3://datascience-lab-canastra-vg/luis/role_norm_api_logs/2023-05-31.parquet\n",
      "READING: s3://datascience-lab-canastra-vg/luis/role_norm_api_logs/2023-06-01.parquet\n",
      "READING: s3://datascience-lab-canastra-vg/luis/role_norm_api_logs/2023-06-02.parquet\n",
      "READING: s3://datascience-lab-canastra-vg/luis/role_norm_api_logs/2023-06-03.parquet\n"
     ]
    },
    {
     "data": {
      "text/html": [
       "<div>\n",
       "<style scoped>\n",
       "    .dataframe tbody tr th:only-of-type {\n",
       "        vertical-align: middle;\n",
       "    }\n",
       "\n",
       "    .dataframe tbody tr th {\n",
       "        vertical-align: top;\n",
       "    }\n",
       "\n",
       "    .dataframe thead th {\n",
       "        text-align: right;\n",
       "    }\n",
       "</style>\n",
       "<table border=\"1\" class=\"dataframe\">\n",
       "  <thead>\n",
       "    <tr style=\"text-align: right;\">\n",
       "      <th></th>\n",
       "      <th>log_datetime</th>\n",
       "      <th>api_request</th>\n",
       "      <th>api_response</th>\n",
       "    </tr>\n",
       "  </thead>\n",
       "  <tbody>\n",
       "    <tr>\n",
       "      <th>0</th>\n",
       "      <td>2023-05-27 23:37:50.807000</td>\n",
       "      <td>{\"titles\":[\"Auxiliar Contábil\"]}</td>\n",
       "      <td>{\"Auxiliar Contábil\": [{\"normalized_role\": \"Au...</td>\n",
       "    </tr>\n",
       "    <tr>\n",
       "      <th>1</th>\n",
       "      <td>2023-05-28 00:05:54.138000</td>\n",
       "      <td>{\"titles\":[\"CFO - Chief Financial Operational\"]}</td>\n",
       "      <td></td>\n",
       "    </tr>\n",
       "    <tr>\n",
       "      <th>2</th>\n",
       "      <td>2023-05-28 00:06:34.607000</td>\n",
       "      <td>{\"titles\":[\"Gerente administrativo\"]}</td>\n",
       "      <td>{\"Gerente administrativo\": [{\"normalized_role\"...</td>\n",
       "    </tr>\n",
       "    <tr>\n",
       "      <th>3</th>\n",
       "      <td>2023-05-27 21:32:38.159000</td>\n",
       "      <td>{\"titles\":[\"Ajudante Geral\"]}</td>\n",
       "      <td>{\"Ajudante Geral\": [{\"normalized_role\": \"Ajuda...</td>\n",
       "    </tr>\n",
       "    <tr>\n",
       "      <th>4</th>\n",
       "      <td>2023-05-28 00:07:52.768000</td>\n",
       "      <td>{\"titles\":[\"Recepcionista e Tecnica de Enferma...</td>\n",
       "      <td></td>\n",
       "    </tr>\n",
       "    <tr>\n",
       "      <th>...</th>\n",
       "      <td>...</td>\n",
       "      <td>...</td>\n",
       "      <td>...</td>\n",
       "    </tr>\n",
       "    <tr>\n",
       "      <th>81059</th>\n",
       "      <td>2023-06-03 10:09:59.716000</td>\n",
       "      <td>{\"titles\":[\"Analista Júnior de RH\"]}</td>\n",
       "      <td></td>\n",
       "    </tr>\n",
       "    <tr>\n",
       "      <th>81060</th>\n",
       "      <td>2023-06-03 10:10:10.602000</td>\n",
       "      <td>{\"titles\":[\"Administrativa \"]}</td>\n",
       "      <td>{\"Administrativa \": [{\"normalized_role\": \"Admi...</td>\n",
       "    </tr>\n",
       "    <tr>\n",
       "      <th>81061</th>\n",
       "      <td>2023-06-03 00:41:59.789000</td>\n",
       "      <td>{\"titles\":[\"Secretária Executiva - Voluntariad...</td>\n",
       "      <td></td>\n",
       "    </tr>\n",
       "    <tr>\n",
       "      <th>81062</th>\n",
       "      <td>2023-06-02 21:25:27.856000</td>\n",
       "      <td>{\"titles\":[\"Programador Java\"]}</td>\n",
       "      <td>{\"Programador Java\": [{\"normalized_role\": \"Pro...</td>\n",
       "    </tr>\n",
       "    <tr>\n",
       "      <th>81063</th>\n",
       "      <td>2023-06-02 21:28:34.134000</td>\n",
       "      <td>{\"titles\":[\"Operador Auxiliar\"]}</td>\n",
       "      <td></td>\n",
       "    </tr>\n",
       "  </tbody>\n",
       "</table>\n",
       "<p>81064 rows × 3 columns</p>\n",
       "</div>"
      ],
      "text/plain": [
       "                     log_datetime   \n",
       "0      2023-05-27 23:37:50.807000  \\\n",
       "1      2023-05-28 00:05:54.138000   \n",
       "2      2023-05-28 00:06:34.607000   \n",
       "3      2023-05-27 21:32:38.159000   \n",
       "4      2023-05-28 00:07:52.768000   \n",
       "...                           ...   \n",
       "81059  2023-06-03 10:09:59.716000   \n",
       "81060  2023-06-03 10:10:10.602000   \n",
       "81061  2023-06-03 00:41:59.789000   \n",
       "81062  2023-06-02 21:25:27.856000   \n",
       "81063  2023-06-02 21:28:34.134000   \n",
       "\n",
       "                                             api_request   \n",
       "0                       {\"titles\":[\"Auxiliar Contábil\"]}  \\\n",
       "1       {\"titles\":[\"CFO - Chief Financial Operational\"]}   \n",
       "2                  {\"titles\":[\"Gerente administrativo\"]}   \n",
       "3                          {\"titles\":[\"Ajudante Geral\"]}   \n",
       "4      {\"titles\":[\"Recepcionista e Tecnica de Enferma...   \n",
       "...                                                  ...   \n",
       "81059               {\"titles\":[\"Analista Júnior de RH\"]}   \n",
       "81060                     {\"titles\":[\"Administrativa \"]}   \n",
       "81061  {\"titles\":[\"Secretária Executiva - Voluntariad...   \n",
       "81062                    {\"titles\":[\"Programador Java\"]}   \n",
       "81063                   {\"titles\":[\"Operador Auxiliar\"]}   \n",
       "\n",
       "                                            api_response  \n",
       "0      {\"Auxiliar Contábil\": [{\"normalized_role\": \"Au...  \n",
       "1                                                         \n",
       "2      {\"Gerente administrativo\": [{\"normalized_role\"...  \n",
       "3      {\"Ajudante Geral\": [{\"normalized_role\": \"Ajuda...  \n",
       "4                                                         \n",
       "...                                                  ...  \n",
       "81059                                                     \n",
       "81060  {\"Administrativa \": [{\"normalized_role\": \"Admi...  \n",
       "81061                                                     \n",
       "81062  {\"Programador Java\": [{\"normalized_role\": \"Pro...  \n",
       "81063                                                     \n",
       "\n",
       "[81064 rows x 3 columns]"
      ]
     },
     "metadata": {},
     "output_type": "display_data"
    },
    {
     "name": "stdout",
     "output_type": "stream",
     "text": [
      "<class 'pandas.core.frame.DataFrame'>\n",
      "RangeIndex: 81064 entries, 0 to 81063\n",
      "Data columns (total 3 columns):\n",
      " #   Column        Non-Null Count  Dtype \n",
      "---  ------        --------------  ----- \n",
      " 0   log_datetime  81064 non-null  object\n",
      " 1   api_request   81064 non-null  object\n",
      " 2   api_response  81064 non-null  object\n",
      "dtypes: object(3)\n",
      "memory usage: 1.9+ MB\n"
     ]
    }
   ],
   "source": [
    "df_role_norm_logs = aips.read_by_date(\n",
    "    os.path.join(s3_data_folder, \"role_norm_api_logs\"),\n",
    "    target_dates,\n",
    "    desc = \"Reading Role Normalization API logs\"\n",
    ")\n",
    "display(df_role_norm_logs)\n",
    "df_role_norm_logs.info()"
   ]
  },
  {
   "cell_type": "markdown",
   "id": "dd7de798-0e8f-4e59-8d48-11a85391a8bc",
   "metadata": {},
   "source": [
    "### Cast log_datetime column to datetime"
   ]
  },
  {
   "cell_type": "code",
   "execution_count": 7,
   "id": "7ab08563-a173-477e-ae47-479359f712d9",
   "metadata": {
    "tags": []
   },
   "outputs": [
    {
     "name": "stdout",
     "output_type": "stream",
     "text": [
      "<class 'pandas.core.frame.DataFrame'>\n",
      "RangeIndex: 81064 entries, 0 to 81063\n",
      "Data columns (total 3 columns):\n",
      " #   Column        Non-Null Count  Dtype         \n",
      "---  ------        --------------  -----         \n",
      " 0   log_datetime  81064 non-null  datetime64[ns]\n",
      " 1   api_request   81064 non-null  object        \n",
      " 2   api_response  81064 non-null  object        \n",
      "dtypes: datetime64[ns](1), object(2)\n",
      "memory usage: 1.9+ MB\n"
     ]
    }
   ],
   "source": [
    "df_role_norm_logs[['log_datetime']] = df_role_norm_logs[['log_datetime']].apply(pd.to_datetime)\n",
    "df_role_norm_logs.info()"
   ]
  },
  {
   "cell_type": "markdown",
   "id": "e6ed5e94-0a75-41f9-b3ad-f72d8fd7c4ef",
   "metadata": {
    "tags": []
   },
   "source": [
    "### Order by datetime column"
   ]
  },
  {
   "cell_type": "code",
   "execution_count": 8,
   "id": "171784a2-cd48-4dab-8bdb-5da1d77e8d53",
   "metadata": {
    "tags": []
   },
   "outputs": [
    {
     "data": {
      "text/html": [
       "<div>\n",
       "<style scoped>\n",
       "    .dataframe tbody tr th:only-of-type {\n",
       "        vertical-align: middle;\n",
       "    }\n",
       "\n",
       "    .dataframe tbody tr th {\n",
       "        vertical-align: top;\n",
       "    }\n",
       "\n",
       "    .dataframe thead th {\n",
       "        text-align: right;\n",
       "    }\n",
       "</style>\n",
       "<table border=\"1\" class=\"dataframe\">\n",
       "  <thead>\n",
       "    <tr style=\"text-align: right;\">\n",
       "      <th></th>\n",
       "      <th>log_datetime</th>\n",
       "      <th>api_request</th>\n",
       "      <th>api_response</th>\n",
       "    </tr>\n",
       "  </thead>\n",
       "  <tbody>\n",
       "    <tr>\n",
       "      <th>0</th>\n",
       "      <td>2023-05-27 21:00:01.576</td>\n",
       "      <td>{\"titles\":[\"Motorista de aplicativo\"]}</td>\n",
       "      <td></td>\n",
       "    </tr>\n",
       "    <tr>\n",
       "      <th>1</th>\n",
       "      <td>2023-05-27 21:00:05.120</td>\n",
       "      <td>{\"titles\":[\"Analista de Faturamento\"]}</td>\n",
       "      <td>{\"Analista de Faturamento\": [{\"normalized_role...</td>\n",
       "    </tr>\n",
       "    <tr>\n",
       "      <th>2</th>\n",
       "      <td>2023-05-27 21:00:13.271</td>\n",
       "      <td>{\"titles\":[\"Analista de Compras\"]}</td>\n",
       "      <td>{\"Analista de Compras\": [{\"normalized_role\": \"...</td>\n",
       "    </tr>\n",
       "    <tr>\n",
       "      <th>3</th>\n",
       "      <td>2023-05-27 21:00:13.533</td>\n",
       "      <td>{\"titles\":[\"Assistente Administrativo\"]}</td>\n",
       "      <td>{\"Assistente Administrativo\": [{\"normalized_ro...</td>\n",
       "    </tr>\n",
       "    <tr>\n",
       "      <th>4</th>\n",
       "      <td>2023-05-27 21:00:16.885</td>\n",
       "      <td>{\"titles\":[\"Consultora de Pricing | Coordenado...</td>\n",
       "      <td></td>\n",
       "    </tr>\n",
       "    <tr>\n",
       "      <th>...</th>\n",
       "      <td>...</td>\n",
       "      <td>...</td>\n",
       "      <td>...</td>\n",
       "    </tr>\n",
       "    <tr>\n",
       "      <th>81059</th>\n",
       "      <td>2023-06-03 20:57:57.756</td>\n",
       "      <td>{\"titles\":[\"Recepcionista ou secretaria \"]}</td>\n",
       "      <td>{\"Recepcionista ou secretaria \": [{\"normalized...</td>\n",
       "    </tr>\n",
       "    <tr>\n",
       "      <th>81060</th>\n",
       "      <td>2023-06-03 20:58:13.631</td>\n",
       "      <td>{\"titles\":[\"ajudante auxliar de estoque\"]}</td>\n",
       "      <td></td>\n",
       "    </tr>\n",
       "    <tr>\n",
       "      <th>81061</th>\n",
       "      <td>2023-06-03 20:58:45.818</td>\n",
       "      <td>{\"titles\":[\"Procurement Apprentice\"]}</td>\n",
       "      <td></td>\n",
       "    </tr>\n",
       "    <tr>\n",
       "      <th>81062</th>\n",
       "      <td>2023-06-03 20:58:57.434</td>\n",
       "      <td>{\"titles\":[\"Especialista em Licitações\"]}</td>\n",
       "      <td></td>\n",
       "    </tr>\n",
       "    <tr>\n",
       "      <th>81063</th>\n",
       "      <td>2023-06-03 20:59:50.116</td>\n",
       "      <td>{\"titles\":[\"Motorista Categoria AB\"]}</td>\n",
       "      <td></td>\n",
       "    </tr>\n",
       "  </tbody>\n",
       "</table>\n",
       "<p>81064 rows × 3 columns</p>\n",
       "</div>"
      ],
      "text/plain": [
       "                 log_datetime   \n",
       "0     2023-05-27 21:00:01.576  \\\n",
       "1     2023-05-27 21:00:05.120   \n",
       "2     2023-05-27 21:00:13.271   \n",
       "3     2023-05-27 21:00:13.533   \n",
       "4     2023-05-27 21:00:16.885   \n",
       "...                       ...   \n",
       "81059 2023-06-03 20:57:57.756   \n",
       "81060 2023-06-03 20:58:13.631   \n",
       "81061 2023-06-03 20:58:45.818   \n",
       "81062 2023-06-03 20:58:57.434   \n",
       "81063 2023-06-03 20:59:50.116   \n",
       "\n",
       "                                             api_request   \n",
       "0                 {\"titles\":[\"Motorista de aplicativo\"]}  \\\n",
       "1                 {\"titles\":[\"Analista de Faturamento\"]}   \n",
       "2                     {\"titles\":[\"Analista de Compras\"]}   \n",
       "3               {\"titles\":[\"Assistente Administrativo\"]}   \n",
       "4      {\"titles\":[\"Consultora de Pricing | Coordenado...   \n",
       "...                                                  ...   \n",
       "81059        {\"titles\":[\"Recepcionista ou secretaria \"]}   \n",
       "81060         {\"titles\":[\"ajudante auxliar de estoque\"]}   \n",
       "81061              {\"titles\":[\"Procurement Apprentice\"]}   \n",
       "81062          {\"titles\":[\"Especialista em Licitações\"]}   \n",
       "81063              {\"titles\":[\"Motorista Categoria AB\"]}   \n",
       "\n",
       "                                            api_response  \n",
       "0                                                         \n",
       "1      {\"Analista de Faturamento\": [{\"normalized_role...  \n",
       "2      {\"Analista de Compras\": [{\"normalized_role\": \"...  \n",
       "3      {\"Assistente Administrativo\": [{\"normalized_ro...  \n",
       "4                                                         \n",
       "...                                                  ...  \n",
       "81059  {\"Recepcionista ou secretaria \": [{\"normalized...  \n",
       "81060                                                     \n",
       "81061                                                     \n",
       "81062                                                     \n",
       "81063                                                     \n",
       "\n",
       "[81064 rows x 3 columns]"
      ]
     },
     "metadata": {},
     "output_type": "display_data"
    }
   ],
   "source": [
    "df_role_norm_logs.sort_values(['log_datetime'], ascending=True, inplace=True)\n",
    "df_role_norm_logs.reset_index(inplace=True, drop=True)\n",
    "display(df_role_norm_logs)"
   ]
  },
  {
   "cell_type": "markdown",
   "id": "4d6a3b47-c547-4072-839b-991c96893ba9",
   "metadata": {
    "tags": []
   },
   "source": [
    "## Save to file"
   ]
  },
  {
   "cell_type": "code",
   "execution_count": 9,
   "id": "001bdc67-e48e-419c-bd73-53a546fbc470",
   "metadata": {
    "tags": []
   },
   "outputs": [
    {
     "name": "stdout",
     "output_type": "stream",
     "text": [
      "Logs CSV file: role_norm_logs.2023-05-28.2023-06-03.csv\n",
      "Logs GZIP file : role_norm_logs.2023-05-28.2023-06-03.csv.gz\n"
     ]
    }
   ],
   "source": [
    "print(f'Logs CSV file: {logs_csv_filename}')\n",
    "print(f'Logs GZIP file : {logs_gzip_filename}')"
   ]
  },
  {
   "cell_type": "code",
   "execution_count": 10,
   "id": "a0c06039-5c16-4640-bd57-c8c0e82a7e03",
   "metadata": {
    "tags": []
   },
   "outputs": [],
   "source": [
    "df_role_norm_logs.to_csv(logs_csv_filename, sep=',', encoding='utf-8', index=False)"
   ]
  },
  {
   "cell_type": "code",
   "execution_count": 11,
   "id": "24639728-2b2e-4448-97b8-1ddc253f6424",
   "metadata": {
    "tags": []
   },
   "outputs": [],
   "source": [
    "with open(logs_csv_filename, 'rb') as f_in, gzip.open(logs_gzip_filename, 'wb') as f_out:\n",
    "    f_out.writelines(f_in)"
   ]
  },
  {
   "cell_type": "code",
   "execution_count": null,
   "id": "af2ce79e-f9b6-48be-a10b-91e1e8baa9cf",
   "metadata": {},
   "outputs": [],
   "source": []
  }
 ],
 "metadata": {
  "kernelspec": {
   "display_name": "Python 3 (ipykernel)",
   "language": "python",
   "name": "python3"
  },
  "language_info": {
   "codemirror_mode": {
    "name": "ipython",
    "version": 3
   },
   "file_extension": ".py",
   "mimetype": "text/x-python",
   "name": "python",
   "nbconvert_exporter": "python",
   "pygments_lexer": "ipython3",
   "version": "3.10.10"
  }
 },
 "nbformat": 4,
 "nbformat_minor": 5
}
